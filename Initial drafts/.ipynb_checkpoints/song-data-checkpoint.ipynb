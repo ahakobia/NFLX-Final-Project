{
 "cells": [
  {
   "cell_type": "code",
   "execution_count": 6,
   "id": "5b363ee0",
   "metadata": {},
   "outputs": [
    {
     "name": "stdout",
     "output_type": "stream",
     "text": [
      "Requirement already satisfied: requests in /opt/homebrew/Cellar/jupyterlab/3.3.0/libexec/lib/python3.9/site-packages (2.27.1)\n",
      "Requirement already satisfied: urllib3<1.27,>=1.21.1 in /opt/homebrew/Cellar/jupyterlab/3.3.0/libexec/lib/python3.9/site-packages (from requests) (1.26.8)\n",
      "Requirement already satisfied: certifi>=2017.4.17 in /opt/homebrew/Cellar/jupyterlab/3.3.0/libexec/lib/python3.9/site-packages (from requests) (2021.10.8)\n",
      "Requirement already satisfied: charset_normalizer~=2.0.0 in /opt/homebrew/Cellar/jupyterlab/3.3.0/libexec/lib/python3.9/site-packages (from requests) (2.0.12)\n",
      "Requirement already satisfied: idna<4,>=2.5 in /opt/homebrew/Cellar/jupyterlab/3.3.0/libexec/lib/python3.9/site-packages (from requests) (3.3)\n",
      "\u001b[33mWARNING: You are using pip version 21.3.1; however, version 22.3.1 is available.\n",
      "You should consider upgrading via the '/opt/homebrew/Cellar/jupyterlab/3.3.0/libexec/bin/python3.9 -m pip install --upgrade pip' command.\u001b[0m\n",
      "Requirement already satisfied: python-dotenv in /opt/homebrew/Cellar/jupyterlab/3.3.0/libexec/lib/python3.9/site-packages (0.21.0)\n",
      "\u001b[33mWARNING: You are using pip version 21.3.1; however, version 22.3.1 is available.\n",
      "You should consider upgrading via the '/opt/homebrew/Cellar/jupyterlab/3.3.0/libexec/bin/python3.9 -m pip install --upgrade pip' command.\u001b[0m\n"
     ]
    }
   ],
   "source": [
    "import sys\n",
    "# installs requests module (used to make HTTP requests)\n",
    "!{sys.executable} -m pip install requests\n",
    "# installs package to access environment variables\n",
    "!{sys.executable} -m pip install python-dotenv"
   ]
  },
  {
   "cell_type": "code",
   "execution_count": 7,
   "id": "3790423b",
   "metadata": {},
   "outputs": [],
   "source": [
    "import requests\n",
    "import pandas as pd\n",
    "import os\n",
    "from dotenv import load_dotenv"
   ]
  },
  {
   "cell_type": "code",
   "execution_count": 8,
   "id": "55c2a420",
   "metadata": {},
   "outputs": [],
   "source": [
    "# take environment variables from .env.\n",
    "load_dotenv()\n",
    "\n",
    "# gets environment variables ID and SECRET\n",
    "CLIENT_ID = os.getenv('ID')\n",
    "CLIENT_SECRET = os.getenv('SECRET')"
   ]
  },
  {
   "cell_type": "code",
   "execution_count": 9,
   "id": "495661cc",
   "metadata": {},
   "outputs": [],
   "source": [
    "# makes POST request to Spotify with login information\n",
    "AUTH_URL = 'https://accounts.spotify.com/api/token'\n",
    "auth_response = requests.post(AUTH_URL, {\n",
    "    'grant_type': 'client_credentials',\n",
    "    'client_id': CLIENT_ID,\n",
    "    'client_secret': CLIENT_SECRET,\n",
    "})\n",
    "\n",
    "# convert the response to JSON and save token\n",
    "auth_response_data = auth_response.json()\n",
    "access_token = auth_response_data['access_token']"
   ]
  },
  {
   "cell_type": "code",
   "execution_count": 10,
   "id": "af1facc4",
   "metadata": {},
   "outputs": [
    {
     "name": "stdout",
     "output_type": "stream",
     "text": [
      "BQArttnsAyK3eWguo1hrgdRAw2GnVghOGKKqkmXyIT9A5MsiPON65_J1S2_7GIvTh2JN2lcSU8s4IPWZOBpebEsf8mee7JKqkysPTMpU25H7S0HnsGQ\n"
     ]
    }
   ],
   "source": [
    "print(access_token)"
   ]
  },
  {
   "cell_type": "code",
   "execution_count": 11,
   "id": "02ced7fd",
   "metadata": {},
   "outputs": [],
   "source": [
    "BASE_URL = 'https://api.spotify.com/v1/'\n",
    "track_id = '35iwgR4jXetI318WEWsa1Q'\n",
    "headers = {\n",
    "    'Authorization': 'Bearer {token}'.format(token=access_token)\n",
    "}\n",
    "\n",
    "# makes GET request to Spotify API to get audio feature data for the specified track\n",
    "track_response = requests.get(BASE_URL + 'audio-features/' + track_id, headers=headers)\n",
    "track_response_data = track_response.json()"
   ]
  },
  {
   "cell_type": "code",
   "execution_count": 12,
   "id": "84925a74",
   "metadata": {},
   "outputs": [
    {
     "data": {
      "text/html": [
       "<div>\n",
       "<style scoped>\n",
       "    .dataframe tbody tr th:only-of-type {\n",
       "        vertical-align: middle;\n",
       "    }\n",
       "\n",
       "    .dataframe tbody tr th {\n",
       "        vertical-align: top;\n",
       "    }\n",
       "\n",
       "    .dataframe thead th {\n",
       "        text-align: right;\n",
       "    }\n",
       "</style>\n",
       "<table border=\"1\" class=\"dataframe\">\n",
       "  <thead>\n",
       "    <tr style=\"text-align: right;\">\n",
       "      <th></th>\n",
       "      <th>acousticness</th>\n",
       "      <th>analysis_url</th>\n",
       "      <th>danceability</th>\n",
       "      <th>duration_ms</th>\n",
       "      <th>energy</th>\n",
       "      <th>id</th>\n",
       "      <th>instrumentalness</th>\n",
       "      <th>key</th>\n",
       "      <th>liveness</th>\n",
       "      <th>loudness</th>\n",
       "      <th>mode</th>\n",
       "      <th>speechiness</th>\n",
       "      <th>tempo</th>\n",
       "      <th>time_signature</th>\n",
       "      <th>track_href</th>\n",
       "      <th>type</th>\n",
       "      <th>uri</th>\n",
       "      <th>valence</th>\n",
       "    </tr>\n",
       "  </thead>\n",
       "  <tbody>\n",
       "    <tr>\n",
       "      <th>0</th>\n",
       "      <td>0.674</td>\n",
       "      <td>https://api.spotify.com/v1/audio-analysis/35iw...</td>\n",
       "      <td>0.645</td>\n",
       "      <td>126903</td>\n",
       "      <td>0.445</td>\n",
       "      <td>35iwgR4jXetI318WEWsa1Q</td>\n",
       "      <td>0.744</td>\n",
       "      <td>0</td>\n",
       "      <td>0.151</td>\n",
       "      <td>-13.338</td>\n",
       "      <td>1</td>\n",
       "      <td>0.451</td>\n",
       "      <td>104.851</td>\n",
       "      <td>3</td>\n",
       "      <td>https://api.spotify.com/v1/tracks/35iwgR4jXetI...</td>\n",
       "      <td>audio_features</td>\n",
       "      <td>spotify:track:35iwgR4jXetI318WEWsa1Q</td>\n",
       "      <td>0.127</td>\n",
       "    </tr>\n",
       "  </tbody>\n",
       "</table>\n",
       "</div>"
      ],
      "text/plain": [
       "   acousticness                                       analysis_url  \\\n",
       "0         0.674  https://api.spotify.com/v1/audio-analysis/35iw...   \n",
       "\n",
       "   danceability  duration_ms  energy                      id  \\\n",
       "0         0.645       126903   0.445  35iwgR4jXetI318WEWsa1Q   \n",
       "\n",
       "   instrumentalness  key  liveness  loudness  mode  speechiness    tempo  \\\n",
       "0             0.744    0     0.151   -13.338     1        0.451  104.851   \n",
       "\n",
       "   time_signature                                         track_href  \\\n",
       "0               3  https://api.spotify.com/v1/tracks/35iwgR4jXetI...   \n",
       "\n",
       "             type                                   uri  valence  \n",
       "0  audio_features  spotify:track:35iwgR4jXetI318WEWsa1Q    0.127  "
      ]
     },
     "execution_count": 12,
     "metadata": {},
     "output_type": "execute_result"
    }
   ],
   "source": [
    "songs_df = pd.DataFrame.from_records(track_response_data, index=[0])\n",
    "songs_df.head()"
   ]
  }
 ],
 "metadata": {
  "kernelspec": {
   "display_name": "Python 3 (ipykernel)",
   "language": "python",
   "name": "python3"
  },
  "language_info": {
   "codemirror_mode": {
    "name": "ipython",
    "version": 3
   },
   "file_extension": ".py",
   "mimetype": "text/x-python",
   "name": "python",
   "nbconvert_exporter": "python",
   "pygments_lexer": "ipython3",
   "version": "3.9.10"
  }
 },
 "nbformat": 4,
 "nbformat_minor": 5
}
